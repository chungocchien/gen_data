{
 "cells": [
  {
   "cell_type": "code",
   "execution_count": 1,
   "metadata": {},
   "outputs": [],
   "source": [
    "import os\n",
    "\n",
    "from groq import Groq\n",
    "from dotenv import load_dotenv\n",
    "\n",
    "load_dotenv() \n",
    "\n",
    "client = Groq(\n",
    "    api_key=os.getenv(\"GROQ_API_KEY\")\n",
    ")"
   ]
  },
  {
   "cell_type": "code",
   "execution_count": 2,
   "metadata": {},
   "outputs": [],
   "source": [
    "def get_key_phrase(text):\n",
    "    chat_completion = client.chat.completions.create(\n",
    "        messages=[\n",
    "            {\n",
    "                \"role\": \"user\",\n",
    "                \"content\": f'''\n",
    "                from the following text, extract the keyphrases and write them down as an array, be careful to keep the phrases intact, do not edit them. \n",
    "                Note that keyphrases are often longer than keywords and they can help learners understand the main idea of ​​the text by reading only the keyphrases. \n",
    "                There may be no keyphrases if the text has no specific content:\n",
    "                Write only an array containing keyphrases or an empty array. Do not write any additional information. Do not introduce. Just generate [...]\n",
    "                text:\n",
    "                {text}''',\n",
    "            }\n",
    "        ],\n",
    "        model=\"llama3-70b-8192\",\n",
    "    )\n",
    "    return chat_completion.choices[0].message.content"
   ]
  },
  {
   "cell_type": "code",
   "execution_count": 3,
   "metadata": {},
   "outputs": [],
   "source": [
    "import re\n",
    "\n",
    "def extract_text_between_brackets(text):\n",
    "    # Sử dụng regex để tìm các đoạn văn bản nằm giữa [ và ]\n",
    "    result = re.findall(r'\\[(.*?)\\]', text)\n",
    "    if not result:\n",
    "        return '<NONE>'\n",
    "    return result[0]"
   ]
  },
  {
   "cell_type": "code",
   "execution_count": 4,
   "metadata": {},
   "outputs": [],
   "source": [
    "def get_final_keyphrase(text):\n",
    "    llm_out = get_key_phrase(text)\n",
    "    keyphrases = extract_text_between_brackets(llm_out).split('\", \"')\n",
    "    keyphrases = [s.strip('\"') for s in keyphrases]\n",
    "    # for key in keyphrases:\n",
    "    #     key = remove_special_characters(key)\n",
    "    return keyphrases"
   ]
  },
  {
   "cell_type": "code",
   "execution_count": 5,
   "metadata": {},
   "outputs": [],
   "source": [
    "def label_keyphrase(texts, keyphrases):\n",
    "    # Khởi tạo mảng label với giá trị mặc định là 0, độ dài bằng số từ trong câu\n",
    "    \n",
    "    labels = [0] * len(texts)\n",
    "\n",
    "    # Xử lý từng keyphrase trong mảng keyphrases\n",
    "    for keyphrase in keyphrases:\n",
    "        keyphrase_tokens = keyphrase.split()\n",
    "        n = len(keyphrase_tokens)\n",
    "\n",
    "        # Tìm vị trí bắt đầu của keyphrase trong câu\n",
    "        for i in range(len(texts) - n + 1):\n",
    "            if texts[i:i + n] == keyphrase_tokens:\n",
    "                # Gán giá trị 1 cho các vị trí thuộc keyphrase\n",
    "                for j in range(i, i + n):\n",
    "                    labels[j] = 1\n",
    "\n",
    "    return labels"
   ]
  },
  {
   "cell_type": "code",
   "execution_count": 6,
   "metadata": {},
   "outputs": [],
   "source": [
    "import json\n",
    "\n",
    "with open('new_data.json', 'r', encoding='utf-8') as json_file:\n",
    "    data = json.load(json_file)"
   ]
  },
  {
   "cell_type": "code",
   "execution_count": 9,
   "metadata": {},
   "outputs": [],
   "source": [
    "for d in data[5500:6000]:\n",
    "    text = ' '.join(d['text'])\n",
    "    keyphrases = get_final_keyphrase(text)\n",
    "    d['keyphrase'] = keyphrases\n",
    "    labels = label_keyphrase(d['text'], keyphrases)\n",
    "    d['label'] = labels"
   ]
  },
  {
   "cell_type": "code",
   "execution_count": 10,
   "metadata": {},
   "outputs": [],
   "source": [
    "with open('new_data.json', 'w', encoding='utf-8') as file:\n",
    "    json.dump(data, file, indent=4, ensure_ascii=False)"
   ]
  },
  {
   "cell_type": "code",
   "execution_count": null,
   "metadata": {},
   "outputs": [],
   "source": []
  }
 ],
 "metadata": {
  "kernelspec": {
   "display_name": "Python 3",
   "language": "python",
   "name": "python3"
  },
  "language_info": {
   "codemirror_mode": {
    "name": "ipython",
    "version": 3
   },
   "file_extension": ".py",
   "mimetype": "text/x-python",
   "name": "python",
   "nbconvert_exporter": "python",
   "pygments_lexer": "ipython3",
   "version": "3.10.12"
  }
 },
 "nbformat": 4,
 "nbformat_minor": 2
}
