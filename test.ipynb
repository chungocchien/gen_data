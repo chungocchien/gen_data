{
 "cells": [
  {
   "cell_type": "code",
   "execution_count": 4,
   "metadata": {},
   "outputs": [],
   "source": [
    "import os\n",
    "\n",
    "from groq import Groq\n",
    "from dotenv import load_dotenv\n",
    "\n",
    "load_dotenv() \n",
    "\n",
    "client = Groq(\n",
    "    api_key=os.getenv(\"GROQ_API_KEY\")\n",
    ")"
   ]
  },
  {
   "cell_type": "code",
   "execution_count": 57,
   "metadata": {},
   "outputs": [],
   "source": [
    "def get_key_phrase(text):\n",
    "    chat_completion = client.chat.completions.create(\n",
    "        messages=[\n",
    "            {\n",
    "                \"role\": \"user\",\n",
    "                \"content\": f'''\n",
    "                from the following text, extract the keyphrases and write them down as an array, be careful to keep the phrases intact, do not edit them. Note that keyphrases are often longer than keywords and they can help learners understand the main idea of ​​the text by reading only the keyphrases. There may be no keyphrases if the text has no specific content:\n",
    "                Write only an array containing keyphrases or an empty array. Do not write any additional information. Do not introduce. Just generate [...]\n",
    "                text:\n",
    "                {text}''',\n",
    "            }\n",
    "        ],\n",
    "        model=\"llama-3.1-70b-versatile\",\n",
    "    )\n",
    "    return chat_completion.choices[0].message.content"
   ]
  },
  {
   "cell_type": "code",
   "execution_count": 25,
   "metadata": {},
   "outputs": [],
   "source": [
    "import re\n",
    "\n",
    "def extract_text_between_brackets(text):\n",
    "    # Sử dụng regex để tìm các đoạn văn bản nằm giữa [ và ]\n",
    "    result = re.findall(r'\\[(.*?)\\]', text)\n",
    "    if not result:\n",
    "        return '<NONE>'\n",
    "    return result[0]"
   ]
  },
  {
   "cell_type": "code",
   "execution_count": null,
   "metadata": {},
   "outputs": [],
   "source": []
  },
  {
   "cell_type": "code",
   "execution_count": 16,
   "metadata": {},
   "outputs": [],
   "source": [
    "import re\n",
    "\n",
    "def remove_puctuation(text):\n",
    "    return re.sub(r'[^\\w\\s]', '', text)"
   ]
  },
  {
   "cell_type": "code",
   "execution_count": 23,
   "metadata": {},
   "outputs": [],
   "source": [
    "import ast\n",
    "\n",
    "def get_final_keyphrase(text):\n",
    "    llm_out = get_key_phrase(text)\n",
    "    keyphrases = extract_text_between_brackets(llm_out).split('\", \"')\n",
    "    keyphrases = [s.strip('\"') for s in keyphrases]\n",
    "    for key in keyphrases:\n",
    "        key = remove_puctuation(key)\n",
    "    return keyphrases"
   ]
  },
  {
   "cell_type": "code",
   "execution_count": 18,
   "metadata": {},
   "outputs": [],
   "source": [
    "def label_keyphrase(texts, keyphrases):\n",
    "    # Khởi tạo mảng label với giá trị mặc định là 0, độ dài bằng số từ trong câu\n",
    "    \n",
    "    labels = [0] * len(texts)\n",
    "\n",
    "    # Xử lý từng keyphrase trong mảng keyphrases\n",
    "    for keyphrase in keyphrases:\n",
    "        keyphrase_tokens = keyphrase.split()\n",
    "        n = len(keyphrase_tokens)\n",
    "\n",
    "        # Tìm vị trí bắt đầu của keyphrase trong câu\n",
    "        for i in range(len(texts) - n + 1):\n",
    "            if texts[i:i + n] == keyphrase_tokens:\n",
    "                # Gán giá trị 1 cho các vị trí thuộc keyphrase\n",
    "                for j in range(i, i + n):\n",
    "                    labels[j] = 1\n",
    "\n",
    "    return labels"
   ]
  },
  {
   "cell_type": "code",
   "execution_count": 19,
   "metadata": {},
   "outputs": [],
   "source": [
    "import json\n",
    "\n",
    "# Open and read the JSON file\n",
    "with open('data.json', 'r', encoding='utf-8') as file:\n",
    "    data = json.load(file)"
   ]
  },
  {
   "cell_type": "code",
   "execution_count": 52,
   "metadata": {},
   "outputs": [],
   "source": [
    "for d in data[4500:5000]:\n",
    "    text = ' '.join(d['text'])\n",
    "    keyphrases = get_final_keyphrase(text)\n",
    "    d['keyphrase'] = keyphrases\n",
    "    labels = label_keyphrase(d['text'], keyphrases)\n",
    "    d['label'] = labels"
   ]
  },
  {
   "cell_type": "code",
   "execution_count": 53,
   "metadata": {},
   "outputs": [],
   "source": [
    "with open('new_data.json', 'w', encoding='utf-8') as file:\n",
    "    json.dump(data, file, indent=4, ensure_ascii=False)"
   ]
  },
  {
   "cell_type": "code",
   "execution_count": 55,
   "metadata": {},
   "outputs": [
    {
     "data": {
      "text/plain": [
       "'Nếu cô không nhớ được số tiền bé đấy thì cô cho cháu đi, cháu hứa lấy một nửa số tiền đấy chuyển thằng vào tài khoản của MTTQ. Thề luôn uy tín.'"
      ]
     },
     "execution_count": 55,
     "metadata": {},
     "output_type": "execute_result"
    }
   ],
   "source": [
    "' '.join(data[5034]['text'])"
   ]
  },
  {
   "cell_type": "code",
   "execution_count": 86,
   "metadata": {},
   "outputs": [],
   "source": [
    "def gen_comments():\n",
    "    chat_completion = client.chat.completions.create(\n",
    "        messages=[\n",
    "            {\n",
    "                \"role\": \"user\",\n",
    "                \"content\": '''\n",
    "                Generate exactly 50 Vietnamese specific random comments on Social Media. Write only an array containing comments. Do not write any additional information.\n",
    "                Do not write \" \"\n",
    "                ''',\n",
    "            }\n",
    "        ],\n",
    "        model=\"llama-3.1-70b-versatile\",\n",
    "    )\n",
    "    return chat_completion.choices[0].message.content\n"
   ]
  },
  {
   "cell_type": "code",
   "execution_count": 87,
   "metadata": {},
   "outputs": [],
   "source": [
    "s = gen_comments()"
   ]
  },
  {
   "cell_type": "code",
   "execution_count": 88,
   "metadata": {},
   "outputs": [],
   "source": [
    "arr = re.findall(r'\\[(.*?)\\]', s, re.DOTALL)"
   ]
  },
  {
   "cell_type": "code",
   "execution_count": 89,
   "metadata": {},
   "outputs": [
    {
     "data": {
      "text/plain": [
       "['Trời ơi, món này ngon quá,\\nMình vừa xem phim hay lắm,\\nBây giờ thời tiết quá nóng,\\nChả giò này bắt mắt quá,\\nEm đã sẵn sàng cho kì thi,\\nĐội tuyển bóng đá Việt Nam thật tuyệt,\\nCơm tấm Sài Gòn ngon không cưỡng,\\nMình thích đi biển quá,\\nHà Nội mùa thu thật đẹp,\\nCây bàng này quá to,\\nBữa này mình ăn gì đây,\\nMón này trông ngon quá,\\nEm thích đọc sách của Nguyễn Nhật Ánh,\\nĐi chợ dân sinh quá thú vị,\\nRural Vietnam thật đẹp,\\nMình thích nghe nhạc Trịnh Công Sơn,\\nMón xôi này ngon lắm,\\nThật tuyệt khi được đi du lịch,\\nCâu view ở Đà Lạt thật đẹp,\\nTrà sữa Trà Sữa 3A quá ngon,\\nBún riêu này bắt mắt quá,\\nMình thích món Phở này,\\nChả giò này quá ngon,\\nSang Sưa mùa hè này HOT quá,\\nCaffe Sữa Đá ở Hà Nội thật ngon,\\nEm thích ăn cơm Tấm Sài Gòn,\\nBảo tàng lịch sử Việt Nam thật hay,\\nTôi thích nhìn cảnh thật đẹp,\\nEm thích chăm sóc cây hoa,\\nTiệc tùng cuối năm thật vui,\\nCây xương rồng thật đẹp,\\nChuyến đi Đà Nẵng quá thú vị,\\nLại thích thời trang đường phố Sài Gòn,\\nMình thích chơi cờ,\\nĐi bộ quá mệt,\\nBà đang xem phim bộ Nước mắt mẹ,\\nĐiểm du lịch Ninh Thuận thật tuyệt,\\nTuyệt vời khi được đi chơi với gia đình,\\nBẹo xào tỏi này quá ngon,\\nNhìn phố thấy nhớ quá,\\nCó ai giới thiệu quán cafe nào ngon không,\\nCó muốn uống cà phê không,\\nMón này quá đắt,\\nLạ lắm,\\nTôi lại gặp chút rắc rối,\\nMở cửa hàng quần áo ở Hà Nội,\\nGhé Nha Trang quá thú vị,\\nTôi yêu chợ truyền thống Việt Nam']"
      ]
     },
     "execution_count": 89,
     "metadata": {},
     "output_type": "execute_result"
    }
   ],
   "source": [
    "arr"
   ]
  },
  {
   "cell_type": "code",
   "execution_count": 90,
   "metadata": {},
   "outputs": [
    {
     "data": {
      "text/plain": [
       "48"
      ]
     },
     "execution_count": 90,
     "metadata": {},
     "output_type": "execute_result"
    }
   ],
   "source": [
    "len(arr[0].split(',\\n'))"
   ]
  },
  {
   "cell_type": "code",
   "execution_count": 92,
   "metadata": {},
   "outputs": [
    {
     "data": {
      "text/plain": [
       "'Trời ơi, món này ngon quá'"
      ]
     },
     "execution_count": 92,
     "metadata": {},
     "output_type": "execute_result"
    }
   ],
   "source": [
    "arr[0].split(',\\n')[0]"
   ]
  },
  {
   "cell_type": "code",
   "execution_count": null,
   "metadata": {},
   "outputs": [],
   "source": [
    "def gen_data():\n",
    "    llm_out = gen_comments()\n",
    "    arr = re.findall(r'\\[(.*?)\\]', llm_out, re.DOTALL)\n",
    "    comments = arr[0].split('\\n')\n",
    "    return comments"
   ]
  }
 ],
 "metadata": {
  "kernelspec": {
   "display_name": "Python 3",
   "language": "python",
   "name": "python3"
  },
  "language_info": {
   "codemirror_mode": {
    "name": "ipython",
    "version": 3
   },
   "file_extension": ".py",
   "mimetype": "text/x-python",
   "name": "python",
   "nbconvert_exporter": "python",
   "pygments_lexer": "ipython3",
   "version": "3.10.12"
  }
 },
 "nbformat": 4,
 "nbformat_minor": 2
}
